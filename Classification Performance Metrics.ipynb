{
 "cells": [
  {
   "cell_type": "markdown",
   "id": "8e0158e9",
   "metadata": {},
   "source": [
    "# Confusion Matrix\n",
    "\n",
    "Unbalanced classes means that accuracy is not a very good metric.\n",
    "Eg 95% healthy and 5% infected.\n",
    "If the model always predicts healthy, it is 95% accurate!"
   ]
  },
  {
   "cell_type": "markdown",
   "id": "d31c00d4",
   "metadata": {},
   "source": [
    "# Recall\n",
    "\n",
    "When is it actually a positive case, how often is it correct?\n",
    "\n",
    "Number of True positives/Total actual positives.\n",
    "\n",
    "95% healthy and 5% infected. If the model always predicts healthy, it has 0% recall!\n",
    "\n",
    "# Precision\n",
    "\n",
    "When prediction is positive, how often is it correct?\n",
    "\n",
    "Number of True positives/Total Predicted Positives.\n",
    "\n",
    "# F1 Score\n",
    "\n",
    "0 precision or recall gives an F1 of zero. By taking the harmonic mean.\n",
    "\n",
    "Evaluates how well precision and recall are doing in one number. Lower is worse.\n",
    "\n",
    "\n",
    "$$    F = \\frac{2*precision*recall}{precision+recall}                  $$\n",
    "\n",
    "\n",
    "# ROC Curves\n",
    "\n",
    "\n"
   ]
  },
  {
   "cell_type": "markdown",
   "id": "651934e1",
   "metadata": {},
   "source": [
    "Sometimes, lowering the cut off point to increase the number of false positives and lower the number of false negatives is better. Imagine a deadly virus test.\n",
    "\n",
    "We chart the true vs false positives for the various cut offs for the ROC Curve.\n",
    "\n",
    "Perfect AUC = 1"
   ]
  }
 ],
 "metadata": {
  "kernelspec": {
   "display_name": "Python 3",
   "language": "python",
   "name": "python3"
  },
  "language_info": {
   "codemirror_mode": {
    "name": "ipython",
    "version": 3
   },
   "file_extension": ".py",
   "mimetype": "text/x-python",
   "name": "python",
   "nbconvert_exporter": "python",
   "pygments_lexer": "ipython3",
   "version": "3.8.8"
  }
 },
 "nbformat": 4,
 "nbformat_minor": 5
}
